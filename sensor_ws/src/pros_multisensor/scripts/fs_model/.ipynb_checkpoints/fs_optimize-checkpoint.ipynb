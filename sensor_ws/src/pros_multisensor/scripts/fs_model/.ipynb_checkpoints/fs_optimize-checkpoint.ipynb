{
 "cells": [
  {
   "cell_type": "markdown",
   "metadata": {},
   "source": [
    "# Contact Point 判断\n",
    "\n",
    "由于使用了压力鞋垫，因此判断contact相对容易，需要获得contact point的位置\n",
    "\n",
    "contact point的位置对于人形机器人来说一般会固定给出，我们也可以采用这种方案，在urdf中添加contact point的link, 从而使用引擎快速获得对应的Jacobian Frame\n"
   ]
  },
  {
   "cell_type": "markdown",
   "metadata": {},
   "source": [
    "# Robots in Soft / Rigid Contact\n",
    "\n",
    "soft contact 指的是可以测量或估计contact force的情况\n",
    "\n",
    "rigid contact 指的是已知contact point的位置但是无法测量force，或产生一个运动学的约束\n",
    "\n",
    "在触地后的contact point满足(c(q)为向量)\n",
    "\n",
    "$$\n",
    "c(q) = const\n",
    "$$"
   ]
  },
  {
   "cell_type": "markdown",
   "metadata": {},
   "source": [
    "# Error Dynamics \n",
    "See this link: https://andreadelprete.github.io/teaching/tsid/1_tsid_theory.pdf\n",
    "\n",
    "一般来说能处理的task function有以下：\n",
    "\n",
    "1.输入u的Affine Function满足a(t)，u一般为力矩和足底力，也可以为关节角速度，角加速度（e.g. 一些输入层面的虚拟约束，例如末端力F就是u的线性组合）\n",
    "$$\n",
    "e(u, t) = A_u u-a(t)\n",
    "$$\n",
    "\n",
    "2.跟踪task space的速度，显然y(v_q)是非线性的函数\n",
    "$$\n",
    "e(v_q, t) = y(v_q)-y^*(t)\n",
    "$$\n",
    "\n",
    "3.跟踪task space的构型，显然y(q)是非线性的函数\n",
    "$$\n",
    "e(q, t) = y(q)-y^*(t)\n",
    "$$\n",
    "\n",
    "对于后两种task，非线性在优化可以通过error-dynamics和状态反馈做到动力系统流形上的局部线性化，改写为Affine Function，同时error function 渐进为0，和原问题基本等价\n"
   ]
  },
  {
   "cell_type": "markdown",
   "metadata": {},
   "source": [
    "$$\n",
    "e(v_q, t) = y(v_q)-y^*(t) \\\\ \n",
    "\\\\\n",
    "\\dot{e} = -K e \\\\\n",
    "\\\\ \n",
    "\\frac{\\partial y}{\\partial q} \\frac{\\partial v_q}{\\partial t} - \\dot{y^*} = -K e\\\\\n",
    "\\\\\n",
    "J = \\frac{\\partial y}{\\partial q} \\\\ \n",
    "\\\\\n",
    "J \\dot{v_q} = \\dot{y^*}-Ke \\\\ \n",
    "\\\\\n",
    "A_v \\dot{v_q} = a(v_q, t)\n",
    "$$\n",
    "此时$A_v \\dot{v_q} = a(v_q, t)$为加速度的Affine Function\n"
   ]
  },
  {
   "cell_type": "markdown",
   "metadata": {},
   "source": [
    "$$\n",
    "e(q, t) = y(q)-y^*(t) \\\\\n",
    "\\ddot{e} = -K e - D \\dot{e} \\\\\n",
    "J \\dot{v_q} + \\dot{J} v_q - \\dot{y^*} = -Ke - D \\dot{e}\\\\\n",
    "J \\dot{v_q} =  \\dot{y^*}-  \\dot{J} v_q - Ke - D \\dot{e}\n",
    "A_v \\dot{v_q} = a(v_q, t)\n",
    "$$\n",
    "此时$A_v \\dot{v_q} = a(v_q, t)$也为加速度的Affine Function"
   ]
  },
  {
   "cell_type": "markdown",
   "metadata": {},
   "source": [
    "同时注意到Affine Function的本质是Real Task Value y对应的Jacobian矩阵$\\frac{\\partial y}{\\partial q}$\n",
    "将多任务并列\n",
    "\n",
    "$$\n",
    "\\begin{bmatrix}\n",
    "A_v & A_u\n",
    "\\end{bmatrix}\n",
    "\\begin{bmatrix}\n",
    "\\dot{v_q} \\\\ u\n",
    "\\end{bmatrix}-a \\\\\n",
    "g(\\lambda) = A\\lambda - a\n",
    "$$\n",
    "所有的task排列为广义输入$\\lambda$的Affine Function，优化的最终目的是获得满足约束条件使得cost最小化的广义输入$\\lambda$"
   ]
  },
  {
   "cell_type": "markdown",
   "metadata": {},
   "source": [
    "# Optimization Problem Formulation\n",
    "\n",
    "对于Soft Contact，足底力可以直接测量得到，故取$\\lambda=[\\dot{v_q}, \\tau]$\n",
    "$$\n",
    "\\begin{aligned}\n",
    "\\underset{\\mathbf \\lambda}{\\min}\\quad& ||A\\lambda-a||^2 \\\\\n",
    "    &\\text{s.t.}\n",
    "    \\begin{bmatrix}\n",
    "    M &-S^T\n",
    "    \\end{bmatrix}\\lambda = -h + J^T f_{ext}\n",
    "\\end{aligned}\n",
    "$$\n",
    "\n",
    "对于Rigid Contact，contact constraint本质为第三类configuration task constraint，因此可以算Jacobian并列写在cost内或者写入constraint内，取$\\lambda=[\\dot{v_q}, f, \\tau]$\n",
    "$$\n",
    "\\begin{aligned}\n",
    "\\underset{\\mathbf \\lambda}{\\min}\\quad& ||A\\lambda-a||^2 \\\\\n",
    "    &\\text{s.t.} \n",
    "    \\begin{bmatrix}\n",
    "    J&0&0\\\\\n",
    "    M & -J^T & -S^T\n",
    "    \\end{bmatrix}\\lambda = \n",
    "    \\begin{bmatrix}\n",
    "    -\\dot{J}v_q\\\\\n",
    "    -h\n",
    "    \\end{bmatrix}\n",
    "\\end{aligned}\n",
    "$$\n",
    "除了模型约束外，一般常使用的还有输入大小的上下限约束"
   ]
  },
  {
   "cell_type": "markdown",
   "metadata": {},
   "source": [
    "# ECLSP（Equality-Constrainted LSP）零空间闭式解\n",
    "\n",
    "\\begin{aligned}\n",
    "\\underset{\\mathbf \\lambda}{\\min}\\quad& ||A\\lambda-a||^2 \\\\\n",
    "&\\text{s.t.} \\quad B\\lambda = b\n",
    "\\end{aligned}\n",
    "\n",
    "$$\n",
    "\\lambda^* = B^{\\dagger}b+N_B(AN_B)^\\dagger(a-AB^\\dagger b)\n",
    "$$\n",
    "\n",
    "$$\n",
    "N_B = I -B^\\dagger B\n",
    "$$\n",
    "\n",
    "非线性约束统一使用专业QP Solver"
   ]
  },
  {
   "cell_type": "markdown",
   "metadata": {},
   "source": [
    "# Weighted Multi-Objective Optimization & WBC\n",
    "给不同的任务不同的权重\n",
    "$$\n",
    "\\begin{aligned}\n",
    "&\\underset{\\mathbf \\lambda}{\\min}\\quad \\sum_{i}||A_i\\lambda-a_i||^2 \\\\\n",
    "    &\\text{s.t.} \n",
    "    \\begin{bmatrix}\n",
    "    J&0&0\\\\\n",
    "    M & -J^T & -S^T\n",
    "    \\end{bmatrix}\\lambda = \n",
    "    \\begin{bmatrix}\n",
    "    -\\dot{J}v_q\\\\\n",
    "    -h\n",
    "    \\end{bmatrix}\n",
    "\\end{aligned}\n",
    "$$\n",
    "直接求解该问题受到权重的好坏影响（与error dynamics 的K,D一样，不在优化过程内进行，可以通过强化学习调节）\n",
    "\n",
    "另一个思路不受权重约束，由于所有的task都可以写成Affine Function，因此可以按照任务重要性，每次求解一个子问题，下次将该子问题的最优化解作为约束添加，再次求解\n",
    "\n",
    "-----------------------------------------------------------------------------\n",
    "\n",
    "for i=1:N\n",
    "\n",
    "$\\quad$ Solve for $\\lambda_i$:\n",
    "$$\n",
    "\\begin{aligned}\n",
    "&\\lambda_i^{*} = \\underset{\\mathbf \\lambda}{\\min}\\quad ||A_i\\lambda-a_i||^2 \\\\\n",
    "&\\text{s.t.} \n",
    "\\begin{bmatrix}\n",
    "J&0&0\\\\\n",
    "M & -J^T & -S^T\n",
    "\\end{bmatrix}\\lambda = \n",
    "\\begin{bmatrix}\n",
    "-\\dot{J}v_q\\\\\n",
    "-h\n",
    "\\end{bmatrix}\\\\\n",
    "&\\quad \\quad A_j \\lambda = A_j \\lambda_{j}^{*} \\quad \\forall j<i\n",
    "\\end{aligned}\n",
    "$$\n",
    "----------------------------------------------------------------------------------"
   ]
  }
 ],
 "metadata": {
  "kernelspec": {
   "display_name": "Python 3 (ipykernel)",
   "language": "python",
   "name": "python3"
  },
  "language_info": {
   "codemirror_mode": {
    "name": "ipython",
    "version": 3
   },
   "file_extension": ".py",
   "mimetype": "text/x-python",
   "name": "python",
   "nbconvert_exporter": "python",
   "pygments_lexer": "ipython3",
   "version": "3.8.10"
  }
 },
 "nbformat": 4,
 "nbformat_minor": 2
}
